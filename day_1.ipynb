{
 "cells": [
  {
   "cell_type": "code",
   "execution_count": null,
   "metadata": {
    "collapsed": true
   },
   "outputs": [],
   "source": [
    "%load_ext pycodestyle_magic\n",
    "# Add %%pycodestyle to the top of a cell to check it for PEP8 violations instead of running the code.\n",
    "# Requires the pycodestyle and pycodestyle_magic modules from pip in your active env."
   ]
  },
  {
   "cell_type": "code",
   "execution_count": null,
   "metadata": {},
   "outputs": [],
   "source": [
    "# %%pycodestyle\n",
    "def calc_1a(data):\n",
    "    sum = 0\n",
    "    for ix, digit in enumerate(data):\n",
    "        if digit == data[(ix+1) % len(data)]:\n",
    "            sum += int(digit)\n",
    "    return sum\n",
    "\n",
    "\n",
    "def calc_1b(data):\n",
    "    sum = 0\n",
    "    step = len(data)//2\n",
    "    for ix, digit in enumerate(data):\n",
    "        if digit == data[(ix+step) % len(data)]:\n",
    "            sum += int(digit)\n",
    "    return sum\n",
    "\n",
    "\n",
    "with open('data/1.txt', 'r') as input:\n",
    "    data = input.read()\n",
    "    print('Q1a:', calc_1a(data))\n",
    "    print('Q1b:', calc_1b(data))\n"
   ]
  }
 ],
 "metadata": {
  "kernelspec": {
   "display_name": "Python [conda env:aoc2017]",
   "language": "python",
   "name": "conda-env-aoc2017-py"
  },
  "language_info": {
   "codemirror_mode": {
    "name": "ipython",
    "version": 3
   },
   "file_extension": ".py",
   "mimetype": "text/x-python",
   "name": "python",
   "nbconvert_exporter": "python",
   "pygments_lexer": "ipython3",
   "version": "3.6.3"
  }
 },
 "nbformat": 4,
 "nbformat_minor": 2
}
