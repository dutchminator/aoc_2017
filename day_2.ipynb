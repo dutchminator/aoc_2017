{
 "cells": [
  {
   "cell_type": "code",
   "execution_count": 9,
   "metadata": {
    "collapsed": true
   },
   "outputs": [],
   "source": [
    "%load_ext pycodestyle_magic\n",
    "# Add %%pycodestyle to the top of a cell to check it for PEP8 violations instead of running the code.\n",
    "# Requires the pycodestyle and pycodestyle_magic modules from pip in your active env."
   ]
  },
  {
   "cell_type": "code",
   "execution_count": 10,
   "metadata": {
    "collapsed": true
   },
   "outputs": [],
   "source": [
    "import csv"
   ]
  },
  {
   "cell_type": "code",
   "execution_count": 16,
   "metadata": {},
   "outputs": [
    {
     "name": "stdout",
     "output_type": "stream",
     "text": [
      "Q2a: 45158\n",
      "Q2b: 294\n"
     ]
    }
   ],
   "source": [
    "def calc_2a(data):\n",
    "    checksum = 0\n",
    "    for row in data:\n",
    "        row = list(map(int, row))\n",
    "        checksum += max(row) - min(row)\n",
    "    return checksum\n",
    "\n",
    "\n",
    "# 2b: X and Y are evenly divisible if X % Y == 0.\n",
    "# This is interpretable as Boolean FALSE.\n",
    "def calc_2b(data):\n",
    "    checksum = 0\n",
    "    for row in data:\n",
    "        row = list(map(int, row))\n",
    "        for ix, x in enumerate(row[:-1]):\n",
    "            for y in row[ix+1:]:\n",
    "                if x % y and y % x:\n",
    "                    continue\n",
    "                if x % y:\n",
    "                    checksum += y // x\n",
    "                else:\n",
    "                    checksum += x // y\n",
    "    return checksum\n",
    "\n",
    "\n",
    "with open('data/2.txt', 'r') as input:\n",
    "    input_reader = csv.reader(input, delimiter='\\t')\n",
    "    print('Q2a:', calc_2a(input_reader))\n",
    "\n",
    "with open('data/2.txt', 'r') as input:\n",
    "    input_reader = csv.reader(input, delimiter='\\t')\n",
    "    print('Q2b:', calc_2b(input_reader))\n"
   ]
  },
  {
   "cell_type": "code",
   "execution_count": null,
   "metadata": {
    "collapsed": true
   },
   "outputs": [],
   "source": []
  }
 ],
 "metadata": {
  "kernelspec": {
   "display_name": "Python [conda env:aoc2017]",
   "language": "python",
   "name": "conda-env-aoc2017-py"
  },
  "language_info": {
   "codemirror_mode": {
    "name": "ipython",
    "version": 3
   },
   "file_extension": ".py",
   "mimetype": "text/x-python",
   "name": "python",
   "nbconvert_exporter": "python",
   "pygments_lexer": "ipython3",
   "version": "3.6.3"
  }
 },
 "nbformat": 4,
 "nbformat_minor": 2
}
