{
 "cells": [
  {
   "cell_type": "code",
   "execution_count": null,
   "metadata": {
    "collapsed": true
   },
   "outputs": [],
   "source": [
    "%load_ext pycodestyle_magic\n",
    "# Add %%pycodestyle to the top of a cell to check it for PEP8 violations instead of running the code.\n",
    "# Requires the pycodestyle and pycodestyle_magic modules from pip in your active env."
   ]
  },
  {
   "cell_type": "code",
   "execution_count": null,
   "metadata": {
    "collapsed": true
   },
   "outputs": [],
   "source": [
    "# import foo"
   ]
  },
  {
   "cell_type": "code",
   "execution_count": null,
   "metadata": {
    "collapsed": true
   },
   "outputs": [],
   "source": [
    "# Question 3a: Mathematical approach\n",
    "def calc_3a(input):\n",
    "\n",
    "    # find the \"ring\" of the spiral matrix we are on\n",
    "    diagonal = 1\n",
    "    while (diagonal) ** 2 < input:\n",
    "        diagonal += 2\n",
    "    ring = diagonal // 2\n",
    "\n",
    "    # We now know the \"ring\" of the matrix we are on, and the upperbound ring*2.\n",
    "    # Now determine the actual remaining steps based on our actual position on the ring\n",
    "    steps_to_center = (input - (diagonal-2)**2) % (ring*2)\n",
    "\n",
    "    return steps_to_center\n",
    "\n",
    "\n",
    "PUZZLE_INPUT = 265149\n",
    "\n",
    "print(\"Q3a: steps to center: {}\".format(calc_3a(PUZZLE_INPUT)))\n"
   ]
  },
  {
   "cell_type": "code",
   "execution_count": null,
   "metadata": {
    "collapsed": true
   },
   "outputs": [],
   "source": [
    "# Question 3b: Simulate the spiral\n",
    "def calc_3b(input):\n",
    "\n",
    "    # Initiation of matrix of size height X width\n",
    "    height = 20\n",
    "    width = 20\n",
    "    matrix = [0] * height\n",
    "    for i in range(width):\n",
    "        matrix[i] = [0] * width\n",
    "    last_written_value = 1\n",
    "    matrix[height//2][width//2] = 1\n",
    "    matrix[height//2][width//2 + 1] = 1\n",
    "\n",
    "    # Initial position for spiral simulation\n",
    "    row = height//2\n",
    "    col = width//2 + 1\n",
    "\n",
    "    # Initial direction\n",
    "    state = 'up'\n",
    "\n",
    "    # Spiral until larger value found than the puzzle input\n",
    "    # Keep up our state direction until we can safely change direction\n",
    "    # UP LEFT DOWN RIGHT UP etc.\n",
    "    while last_written_value <= input:\n",
    "\n",
    "        if state == 'up':\n",
    "            row -= 1\n",
    "            if matrix[row][col-1] == 0:\n",
    "                state = 'left'\n",
    "\n",
    "        elif state == 'left':\n",
    "            col -= 1\n",
    "            if matrix[row+1][col] == 0:\n",
    "                state = 'down'\n",
    "\n",
    "        elif state == 'down':\n",
    "            row += 1\n",
    "            if matrix[row][col+1] == 0:\n",
    "                state = 'right'\n",
    "\n",
    "        elif state == 'right':\n",
    "            col += 1\n",
    "            if matrix[row-1][col] == 0:\n",
    "                state = 'up'\n",
    "\n",
    "        # Update the value of the new cell position and store this new value\n",
    "        matrix[row][col] = calc_cell_value(matrix, row, col)\n",
    "        last_written_value = matrix[row][col]\n",
    "\n",
    "    return matrix, last_written_value\n",
    "\n",
    "\n",
    "# Calculates the sum of the surrounding cells.\n",
    "# Because the value of the current cell always == 0,\n",
    "# it does not need to be explicitly skipped when i == j == 0.\n",
    "def calc_cell_value(matrix, row, col):\n",
    "    sum_surrounding = 0\n",
    "    for i in range(-1, 2):\n",
    "        for j in range(-1, 2):\n",
    "            sum_surrounding += matrix[row+i][col+j]\n",
    "    return sum_surrounding\n",
    "\n",
    "\n",
    "PUZZLE_INPUT = 265149\n",
    "\n",
    "matrix, q3b_answer = calc_3b(PUZZLE_INPUT)\n",
    "\n",
    "print('Q3b: First bigger value than {} : {}'.format(PUZZLE_INPUT, q3b_answer))"
   ]
  }
 ],
 "metadata": {
  "kernelspec": {
   "display_name": "Python [conda env:aoc2017]",
   "language": "python",
   "name": "conda-env-aoc2017-py"
  },
  "language_info": {
   "codemirror_mode": {
    "name": "ipython",
    "version": 3
   },
   "file_extension": ".py",
   "mimetype": "text/x-python",
   "name": "python",
   "nbconvert_exporter": "python",
   "pygments_lexer": "ipython3",
   "version": "3.6.3"
  }
 },
 "nbformat": 4,
 "nbformat_minor": 2
}
