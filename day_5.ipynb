{
 "cells": [
  {
   "cell_type": "code",
   "execution_count": 16,
   "metadata": {
    "collapsed": true
   },
   "outputs": [],
   "source": [
    "%load_ext pycodestyle_magic\n",
    "# Add %%pycodestyle to the top of a cell to check it for PEP8 violations instead of running the code.\n",
    "# Requires the pycodestyle and pycodestyle_magic modules from pip in your active env."
   ]
  },
  {
   "cell_type": "code",
   "execution_count": null,
   "metadata": {
    "collapsed": true
   },
   "outputs": [],
   "source": [
    "# import foo"
   ]
  },
  {
   "cell_type": "code",
   "execution_count": 18,
   "metadata": {},
   "outputs": [],
   "source": [
    "def calc_5a(input):\n",
    "    data = list(map(int, input.read().split('\\n')))\n",
    "    ix = 0\n",
    "    steps = 0\n",
    "    # Main loop\n",
    "    while 0 <= ix < len(data):\n",
    "        ix_new = ix + data[ix]\n",
    "        data[ix] += 1\n",
    "        ix = ix_new\n",
    "        steps += 1\n",
    "    return steps\n",
    "\n",
    "\n",
    "def calc_5b(input):\n",
    "    data = list(map(int, input.read().split('\\n')))\n",
    "    ix = 0\n",
    "    steps = 0\n",
    "    # Main loop\n",
    "    while 0 <= ix < len(data):\n",
    "        ix_new = ix + data[ix]\n",
    "        if data[ix] >= 3:\n",
    "            data[ix] -= 1\n",
    "        else:\n",
    "            data[ix] += 1\n",
    "        ix = ix_new\n",
    "        steps += 1\n",
    "    return steps\n",
    "\n",
    "\n",
    "with open('data/5.txt', 'r') as input:\n",
    "    answer = calc_5a(input)\n",
    "    print(\"Q5a: {}\".format(answer))\n",
    "\n",
    "with open('data/5.txt', 'r') as input:\n",
    "    answer = calc_5b(input)\n",
    "    print(\"Q5b: {}\".format(answer))\n"
   ]
  }
 ],
 "metadata": {
  "kernelspec": {
   "display_name": "Python [conda env:aoc2017]",
   "language": "python",
   "name": "conda-env-aoc2017-py"
  },
  "language_info": {
   "codemirror_mode": {
    "name": "ipython",
    "version": 3
   },
   "file_extension": ".py",
   "mimetype": "text/x-python",
   "name": "python",
   "nbconvert_exporter": "python",
   "pygments_lexer": "ipython3",
   "version": "3.6.3"
  }
 },
 "nbformat": 4,
 "nbformat_minor": 2
}
