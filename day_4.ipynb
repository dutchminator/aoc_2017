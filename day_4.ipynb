{
 "cells": [
  {
   "cell_type": "code",
   "execution_count": null,
   "metadata": {
    "collapsed": true
   },
   "outputs": [],
   "source": [
    "%load_ext pycodestyle_magic\n",
    "# Add %%pycodestyle to the top of a cell to check it for PEP8 violations instead of running the code.\n",
    "# Requires the pycodestyle and pycodestyle_magic modules from pip in your active env."
   ]
  },
  {
   "cell_type": "code",
   "execution_count": null,
   "metadata": {
    "collapsed": true
   },
   "outputs": [],
   "source": [
    "# import foo\n",
    "from collections import Counter"
   ]
  },
  {
   "cell_type": "code",
   "execution_count": null,
   "metadata": {},
   "outputs": [],
   "source": [
    "def calc_4a(input):\n",
    "    num_correct = 0\n",
    "    for line in input:\n",
    "        # Do something for line\n",
    "        wordcount = Counter(line.rstrip('\\n').split(' '))\n",
    "        num_correct += all(v == 1 for v in wordcount.values())\n",
    "    return num_correct\n",
    "\n",
    "\n",
    "def calc_4b(input):\n",
    "    num_correct = 0\n",
    "    for line in input:\n",
    "        # Do something for line\n",
    "        phrase = line.rstrip('\\n').split(' ')\n",
    "        sorted_phrase = [''.join(sorted(word)) for word in phrase]\n",
    "        wordcount = Counter(sorted_phrase)\n",
    "        num_correct += all(v == 1 for v in wordcount.values())\n",
    "    return num_correct\n",
    "\n",
    "\n",
    "with open('data/4.txt','r') as input:\n",
    "    answer_4a = calc_4a(input)\n",
    "    print(\"Q4a: {}\".format(answer_4a))\n",
    "\n",
    "with open('data/4.txt','r') as input:\n",
    "    answer_4b = calc_4b(input)\n",
    "    print(\"Q4b: {}\".format(answer_4b))\n"
   ]
  }
 ],
 "metadata": {
  "kernelspec": {
   "display_name": "Python [conda env:aoc2017]",
   "language": "python",
   "name": "conda-env-aoc2017-py"
  },
  "language_info": {
   "codemirror_mode": {
    "name": "ipython",
    "version": 3
   },
   "file_extension": ".py",
   "mimetype": "text/x-python",
   "name": "python",
   "nbconvert_exporter": "python",
   "pygments_lexer": "ipython3",
   "version": "3.6.3"
  }
 },
 "nbformat": 4,
 "nbformat_minor": 2
}
