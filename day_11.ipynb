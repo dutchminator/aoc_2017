{
 "cells": [
  {
   "cell_type": "code",
   "execution_count": 2,
   "metadata": {
    "collapsed": true
   },
   "outputs": [],
   "source": [
    "%load_ext pycodestyle_magic\n",
    "# Add %%pycodestyle to the top of a cell to check it for PEP8 violations instead of running the code.\n",
    "# Requires the pycodestyle and pycodestyle_magic modules from pip in your active env."
   ]
  },
  {
   "cell_type": "code",
   "execution_count": 3,
   "metadata": {
    "collapsed": true
   },
   "outputs": [],
   "source": [
    "# import foo\n",
    "from collections import Counter"
   ]
  },
  {
   "cell_type": "code",
   "execution_count": 5,
   "metadata": {
    "collapsed": true
   },
   "outputs": [],
   "source": [
    "# global defs\n",
    "# x & y directions for each option\n",
    "DIRECTIONS = {\n",
    "    \"nw\": (-1, -1),\n",
    "    \"n\": (0, -2),\n",
    "    \"ne\": (1, -1),\n",
    "    \"se\": (1, 1),\n",
    "    \"s\": (0, 2),\n",
    "    \"sw\": (-1, 1)\n",
    "}"
   ]
  },
  {
   "cell_type": "code",
   "execution_count": 19,
   "metadata": {
    "scrolled": true
   },
   "outputs": [
    {
     "name": "stdout",
     "output_type": "stream",
     "text": [
      "(650, -24)\n",
      "24\n",
      "Q11a: 650\n"
     ]
    }
   ],
   "source": [
    "def calc_a(input):\n",
    "    # init\n",
    "    data = input.read().rstrip('\\n').split(',')\n",
    "    pos = (0, 0)\n",
    "    \n",
    "    # Loop over instructions\n",
    "    for direction in data:\n",
    "        step = DIRECTIONS[direction]\n",
    "        pos = (pos[0] + step[0], pos[1] + step[1])\n",
    "    print(pos)\n",
    "    \n",
    "    # Find the distance to source\n",
    "    distance = distance_to_source(pos)\n",
    "    return distance\n",
    "\n",
    "\n",
    "def distance_to_source(pos):\n",
    "    x, y = pos\n",
    "    distance = 0\n",
    "    x = abs(x)\n",
    "    y = abs(y)\n",
    "    \n",
    "    # Move diagonally\n",
    "    diagonal_steps = min(x,y)\n",
    "    distance += diagonal_steps\n",
    "    x -= diagonal_steps\n",
    "    y -= diagonal_steps\n",
    "    # Either x or y == 0\n",
    "    \n",
    "    if x == 0:\n",
    "        # move vertically\n",
    "        distance += y // 2\n",
    "    else:\n",
    "        # move horizontally\n",
    "        distance += x\n",
    "    \n",
    "    return distance\n",
    "\n",
    "\n",
    "with open('data/11.txt', 'r') as input:\n",
    "    answer = calc_a(input)\n",
    "    print(\"Q11a: {}\".format(answer))"
   ]
  },
  {
   "cell_type": "code",
   "execution_count": 22,
   "metadata": {},
   "outputs": [
    {
     "name": "stdout",
     "output_type": "stream",
     "text": [
      "(650, -24)\n",
      "Q11b: 1465\n"
     ]
    }
   ],
   "source": [
    "def calc_b(input):\n",
    "    # init\n",
    "    data = input.read().rstrip('\\n').split(',')\n",
    "    pos = (0, 0)\n",
    "    max_distance = 0\n",
    "    \n",
    "    # Loop over instructions\n",
    "    for direction in data:\n",
    "        step = DIRECTIONS[direction]\n",
    "        pos = (pos[0] + step[0], pos[1] + step[1])\n",
    "        max_distance = max(max_distance, distance_to_source(pos))\n",
    "    print(pos)\n",
    "    \n",
    "    # Find the distance to source\n",
    "    # distance = distance_to_source(pos)\n",
    "    return max_distance\n",
    "\n",
    "\n",
    "def distance_to_source(pos):\n",
    "    x, y = pos\n",
    "    distance = 0\n",
    "    x = abs(x)\n",
    "    y = abs(y)\n",
    "    \n",
    "    # Move diagonally\n",
    "    diagonal_steps = min(x,y)\n",
    "    distance += diagonal_steps\n",
    "    x -= diagonal_steps\n",
    "    y -= diagonal_steps\n",
    "    # Either x or y == 0\n",
    "    \n",
    "    if x == 0:\n",
    "        # move vertically\n",
    "        distance += y // 2\n",
    "    else:\n",
    "        # move horizontally\n",
    "        distance += x\n",
    "    \n",
    "    return distance\n",
    "\n",
    "\n",
    "with open('data/11.txt', 'r') as input:\n",
    "    answer = calc_b(input)\n",
    "    print(\"Q11b: {}\".format(answer))\n"
   ]
  }
 ],
 "metadata": {
  "kernelspec": {
   "display_name": "Python [conda env:aoc2017]",
   "language": "python",
   "name": "conda-env-aoc2017-py"
  },
  "language_info": {
   "codemirror_mode": {
    "name": "ipython",
    "version": 3
   },
   "file_extension": ".py",
   "mimetype": "text/x-python",
   "name": "python",
   "nbconvert_exporter": "python",
   "pygments_lexer": "ipython3",
   "version": "3.6.3"
  }
 },
 "nbformat": 4,
 "nbformat_minor": 2
}
