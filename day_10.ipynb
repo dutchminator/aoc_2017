{
 "cells": [
  {
   "cell_type": "code",
   "execution_count": 1,
   "metadata": {
    "collapsed": true
   },
   "outputs": [],
   "source": [
    "%load_ext pycodestyle_magic\n",
    "# Add %%pycodestyle to the top of a cell to check it for PEP8 violations instead of running the code.\n",
    "# Requires the pycodestyle and pycodestyle_magic modules from pip in your active env."
   ]
  },
  {
   "cell_type": "code",
   "execution_count": null,
   "metadata": {
    "collapsed": true
   },
   "outputs": [],
   "source": [
    "# import foo"
   ]
  },
  {
   "cell_type": "code",
   "execution_count": null,
   "metadata": {
    "collapsed": true
   },
   "outputs": [],
   "source": [
    "# global defs\n"
   ]
  },
  {
   "cell_type": "code",
   "execution_count": 2,
   "metadata": {
    "scrolled": true
   },
   "outputs": [
    {
     "name": "stdout",
     "output_type": "stream",
     "text": [
      "Q10a: 19591\n"
     ]
    }
   ],
   "source": [
    "def calc_a(input):\n",
    "    # init\n",
    "    size = 256\n",
    "    circle = [i for i in range(0,size)]\n",
    "    ix = 0\n",
    "    skip = 0\n",
    "    steps = map(int,input.read().rstrip('\\n').split(','))\n",
    "\n",
    "    # Loop\n",
    "    for step in steps:\n",
    "        # if it won't loop\n",
    "        if ix+step <= size:\n",
    "            circle[ix:(ix+step)] = reversed(circle[ix:(ix+step)])\n",
    "        else:\n",
    "            # in two steps\n",
    "            step1 = size - ix\n",
    "            step2 = step - step1\n",
    "            segment = circle[ix:size]\n",
    "            segment += circle[0:step2]\n",
    "            segment = list(reversed(segment))\n",
    "            circle[ix:size] = segment[0:step1]\n",
    "            circle[0:step2] = segment[step1:step]\n",
    "\n",
    "        ix = (ix + step + skip) % size\n",
    "        skip += 1\n",
    "    \n",
    "    # Find\n",
    "    result = circle[0] * circle[1]\n",
    "    \n",
    "    return result\n",
    "\n",
    "\n",
    "with open('data/10.txt', 'r') as input:\n",
    "    # answer = calc_a(input)\n",
    "    answer = calc_a(input)\n",
    "    print(\"Q10a: {}\".format(answer))"
   ]
  },
  {
   "cell_type": "code",
   "execution_count": null,
   "metadata": {},
   "outputs": [],
   "source": [
    "def calc_b(input):\n",
    "    # init\n",
    "    \n",
    "    # Loop\n",
    "    \n",
    "    # Find\n",
    "    \n",
    "    return True\n",
    "\n",
    "\n",
    "with open('data/10.txt', 'r') as input:\n",
    "    answer = calc_b(input)\n",
    "    print(\"Q10b: {}\".format(answer))\n"
   ]
  }
 ],
 "metadata": {
  "kernelspec": {
   "display_name": "Python [conda env:aoc2017]",
   "language": "python",
   "name": "conda-env-aoc2017-py"
  },
  "language_info": {
   "codemirror_mode": {
    "name": "ipython",
    "version": 3
   },
   "file_extension": ".py",
   "mimetype": "text/x-python",
   "name": "python",
   "nbconvert_exporter": "python",
   "pygments_lexer": "ipython3",
   "version": "3.6.3"
  }
 },
 "nbformat": 4,
 "nbformat_minor": 2
}
