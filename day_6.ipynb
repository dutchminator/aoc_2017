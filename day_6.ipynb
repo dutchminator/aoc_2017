{
 "cells": [
  {
   "cell_type": "code",
   "execution_count": null,
   "metadata": {
    "collapsed": true
   },
   "outputs": [],
   "source": [
    "%load_ext pycodestyle_magic\n",
    "# Add %%pycodestyle to the top of a cell to check it for PEP8 violations instead of running the code.\n",
    "# Requires the pycodestyle and pycodestyle_magic modules from pip in your active env."
   ]
  },
  {
   "cell_type": "code",
   "execution_count": null,
   "metadata": {
    "collapsed": true
   },
   "outputs": [],
   "source": [
    "# import foo"
   ]
  },
  {
   "cell_type": "code",
   "execution_count": null,
   "metadata": {
    "scrolled": true
   },
   "outputs": [],
   "source": [
    "def calc_a(input):\n",
    "    # init\n",
    "    state = list(map(int, input.read().rstrip('\\n').split('\\t')))\n",
    "    num_banks = len(state)\n",
    "    states = [tuple(state)]\n",
    "    equilibrium = False\n",
    "    cycles = 0\n",
    "\n",
    "    # Loop\n",
    "    while not equilibrium:\n",
    "\n",
    "        cycles += 1\n",
    "        ix = state.index(max(state))\n",
    "        val = state[ix]\n",
    "        state[ix] = 0\n",
    "        state = [(x + val//num_banks) for x in state]\n",
    "        for i in range(0, val-(val//num_banks)):\n",
    "            state[(ix + 1 + i) % num_banks] += 1\n",
    "            \n",
    "        if tuple(state) in states:\n",
    "            equilibrium = True\n",
    "        else:\n",
    "            states.append(tuple(state))\n",
    "\n",
    "    return cycles\n",
    "\n",
    "\n",
    "def calc_b(input):\n",
    "    # init\n",
    "    state = list(map(int, input.read().rstrip('\\n').split('\\t')))\n",
    "    num_banks = len(state)\n",
    "    states = [tuple(state)]\n",
    "    equilibrium = False\n",
    "    looped = False\n",
    "    cycles = 0\n",
    "\n",
    "    # Loop\n",
    "    while not looped:\n",
    "\n",
    "        ix = state.index(max(state))\n",
    "        val = state[ix]\n",
    "        state[ix] = 0\n",
    "        state = [(x + val//num_banks) for x in state]\n",
    "        for i in range(0, val-(val//num_banks)):\n",
    "            state[(ix + 1 + i) % num_banks] += 1\n",
    "            \n",
    "        if not equilibrium:\n",
    "            if tuple(state) in states:\n",
    "                equilibrium = True\n",
    "                equilibrium_state = tuple(state)\n",
    "            else:\n",
    "                states.append(tuple(state))\n",
    "        else:\n",
    "            cycles += 1\n",
    "            if tuple(state) == equilibrium_state:\n",
    "                looped = True\n",
    "\n",
    "    return cycles\n",
    "\n",
    "\n",
    "with open('data/6.txt', 'r') as input:\n",
    "    answer = calc_a(input)\n",
    "    print(\"Q6a: {}\".format(answer))\n",
    "\n",
    "with open('data/6.txt', 'r') as input:\n",
    "    answer = calc_b(input)\n",
    "    print(\"Q6b: {}\".format(answer))\n"
   ]
  }
 ],
 "metadata": {
  "kernelspec": {
   "display_name": "Python [conda env:aoc2017]",
   "language": "python",
   "name": "conda-env-aoc2017-py"
  },
  "language_info": {
   "codemirror_mode": {
    "name": "ipython",
    "version": 3
   },
   "file_extension": ".py",
   "mimetype": "text/x-python",
   "name": "python",
   "nbconvert_exporter": "python",
   "pygments_lexer": "ipython3",
   "version": "3.6.3"
  }
 },
 "nbformat": 4,
 "nbformat_minor": 2
}
